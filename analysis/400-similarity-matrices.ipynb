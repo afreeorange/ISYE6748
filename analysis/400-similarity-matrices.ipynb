{
 "cells": [
  {
   "cell_type": "code",
   "execution_count": 1,
   "id": "f63ba901",
   "metadata": {},
   "outputs": [],
   "source": [
    "import pandas as pd\n",
    "from sklearn.neighbors import NearestNeighbors\n",
    "\n",
    "from util import (\n",
    "    SIMILARITY_TABLE_DATA_DIR,\n",
    ")\n"
   ]
  },
  {
   "cell_type": "markdown",
   "id": "56ecbb4d",
   "metadata": {},
   "source": [
    "# Generate Similarity Matrices"
   ]
  },
  {
   "cell_type": "markdown",
   "id": "6523d6ea",
   "metadata": {},
   "source": [
    "Generate the user-user and item-item similarity matrices at each layer that we need for our analysis. This generates unadjusted, adjusted, and normalized Cosine Similarities for item-item matrices.\n",
    "\n",
    "The output is written to `../data/similarity_matrices`. For the given dataset, this is run just once."
   ]
  },
  {
   "cell_type": "code",
   "execution_count": 3,
   "id": "e2376d61",
   "metadata": {},
   "outputs": [],
   "source": [
    "layer_1_raw = pd.read_parquet(\n",
    "    \"../data/processed/100-layer-frequencies_layer_1.parquet\",\n",
    "    engine=\"pyarrow\",\n",
    ").drop(\"Gender_Code\", axis=1)\n",
    "\n",
    "layer_2_raw = pd.read_parquet(\n",
    "    \"../data/processed/100-layer-frequencies_layer_2.parquet\",\n",
    "    engine=\"pyarrow\",\n",
    ").drop(\"Gender_Code\", axis=1)\n",
    "\n",
    "layer_3_raw = pd.read_parquet(\n",
    "    \"../data/processed/100-layer-frequencies_layer_3.parquet\",\n",
    "    engine=\"pyarrow\",\n",
    ").drop(\"Gender_Code\", axis=1)\n"
   ]
  },
  {
   "cell_type": "code",
   "execution_count": 4,
   "id": "1dfe9de1",
   "metadata": {},
   "outputs": [],
   "source": [
    "# We will generate the top-10 rankings. The user/item will be part of this\n",
    "# list since it is most similar to itself. Hence 11.\n",
    "num_neighbor = 11"
   ]
  },
  {
   "cell_type": "markdown",
   "id": "5f7397b2",
   "metadata": {},
   "source": [
    "## Prepare Similarity Matrices"
   ]
  },
  {
   "cell_type": "markdown",
   "id": "1fd955a5",
   "metadata": {},
   "source": [
    "### Item-item"
   ]
  },
  {
   "cell_type": "code",
   "execution_count": 6,
   "id": "18d91748",
   "metadata": {},
   "outputs": [],
   "source": [
    "# Small helper method to flip the dataframe. This makes the ICD classes as row\n",
    "# and member ID as columns\n",
    "def flip_df(df_raw):\n",
    "    df_flip = df_raw.set_index('Member_Life_ID').transpose()\n",
    "    df_flip.columns.name=''\n",
    "    return df_flip"
   ]
  },
  {
   "cell_type": "markdown",
   "id": "ec52c9ab",
   "metadata": {},
   "source": [
    "#### Unadjusted Cosine Similarity"
   ]
  },
  {
   "cell_type": "code",
   "execution_count": 7,
   "id": "cf2b1545",
   "metadata": {},
   "outputs": [],
   "source": [
    "df_item_1 = flip_df(layer_1_raw)\n",
    "df_item_2 = flip_df(layer_2_raw)\n",
    "df_item_3 = flip_df(layer_3_raw)"
   ]
  },
  {
   "cell_type": "markdown",
   "id": "d91bccef",
   "metadata": {},
   "source": [
    "#### Adjusted Cosine Similarity"
   ]
  },
  {
   "cell_type": "code",
   "execution_count": 8,
   "id": "4182c0d3",
   "metadata": {},
   "outputs": [],
   "source": [
    "patient_mean_1 = df_item_1.mean(axis=0)\n",
    "patient_mean_2 = df_item_2.mean(axis=0)\n",
    "patient_mean_3 = df_item_3.mean(axis=0)\n",
    "df_adjusted_item_1 = df_item_1 - patient_mean_1\n",
    "df_adjusted_item_2 = df_item_2 - patient_mean_2\n",
    "df_adjusted_item_3 = df_item_3 - patient_mean_3"
   ]
  },
  {
   "cell_type": "markdown",
   "id": "0085d96f",
   "metadata": {},
   "source": [
    "#### Normalized Cosine Similarity"
   ]
  },
  {
   "cell_type": "code",
   "execution_count": 9,
   "id": "c0e87e46",
   "metadata": {},
   "outputs": [],
   "source": [
    "df_normalized_item_1 = (df_item_1 - df_item_1.min()) / (\n",
    "    df_item_1.max() - df_item_1.min()\n",
    ")\n",
    "df_normalized_item_2 = (df_item_2 - df_item_2.min()) / (\n",
    "    df_item_2.max() - df_item_2.min()\n",
    ")\n",
    "df_normalized_item_3 = (df_item_3 - df_item_3.min()) / (\n",
    "    df_item_3.max() - df_item_3.min()\n",
    ")"
   ]
  },
  {
   "cell_type": "markdown",
   "id": "025e801b",
   "metadata": {},
   "source": [
    "### User-user"
   ]
  },
  {
   "cell_type": "code",
   "execution_count": null,
   "id": "ba9904c3",
   "metadata": {},
   "outputs": [],
   "source": [
    "df_user_1 = layer_1_raw.set_index('Member_Life_ID')\n",
    "df_user_2 = layer_2_raw.set_index('Member_Life_ID')\n",
    "df_user_3 = layer_3_raw.set_index('Member_Life_ID')"
   ]
  },
  {
   "cell_type": "markdown",
   "id": "21195386",
   "metadata": {},
   "source": [
    "## Calculate Item-Item and User-User Distances"
   ]
  },
  {
   "cell_type": "code",
   "execution_count": 10,
   "id": "067e74b3",
   "metadata": {},
   "outputs": [],
   "source": [
    "# Small helper that uses sklearn to determine the cosine similarity.\n",
    "def calculate(df, num_neighbor):\n",
    "    knn = NearestNeighbors(metric=\"cosine\", algorithm=\"brute\")\n",
    "    knn.fit(df.values)\n",
    "    distances, indices = knn.kneighbors(df.values, n_neighbors=num_neighbor)\n",
    "    return distances, indices\n"
   ]
  },
  {
   "cell_type": "markdown",
   "id": "58c2ba72",
   "metadata": {},
   "source": [
    "### Item-Item Similarity - Unadjusted Cosine"
   ]
  },
  {
   "cell_type": "code",
   "execution_count": 14,
   "id": "0bdfea4a",
   "metadata": {},
   "outputs": [],
   "source": [
    "item_distance_1, item_indices_1 = calculate(df_item_1, num_neighbor)\n",
    "df_item_distance_1 = pd.DataFrame(\n",
    "    item_distance_1,\n",
    "    index=df_item_1.index.tolist(),\n",
    "    columns=[str(i) for i in range(num_neighbor)],\n",
    ")\n",
    "df_item_indices_1 = pd.DataFrame(\n",
    "    item_indices_1,\n",
    "    index=df_item_1.index.tolist(),\n",
    "    columns=[str(i) for i in range(num_neighbor)],\n",
    ")\n"
   ]
  },
  {
   "cell_type": "code",
   "execution_count": 15,
   "id": "b86f3a2a",
   "metadata": {},
   "outputs": [],
   "source": [
    "item_distance_2, item_indices_2 = calculate(df_item_2, num_neighbor)\n",
    "df_item_distance_2 = pd.DataFrame(\n",
    "    item_distance_2,\n",
    "    index=df_item_2.index.tolist(),\n",
    "    columns=[str(i) for i in range(num_neighbor)],\n",
    ")\n",
    "df_item_indices_2 = pd.DataFrame(\n",
    "    item_indices_2,\n",
    "    index=df_item_2.index.tolist(),\n",
    "    columns=[str(i) for i in range(num_neighbor)],\n",
    ")\n"
   ]
  },
  {
   "cell_type": "code",
   "execution_count": 16,
   "id": "5dfec782",
   "metadata": {},
   "outputs": [],
   "source": [
    "item_distance_3, item_indices_3 = calculate(df_item_3, num_neighbor)\n",
    "df_item_distance_3 = pd.DataFrame(\n",
    "    item_distance_3,\n",
    "    index=df_item_3.index.tolist(),\n",
    "    columns=[str(i) for i in range(num_neighbor)],\n",
    ")\n",
    "df_item_indices_3 = pd.DataFrame(\n",
    "    item_indices_3,\n",
    "    index=df_item_3.index.tolist(),\n",
    "    columns=[str(i) for i in range(num_neighbor)],\n",
    ")\n"
   ]
  },
  {
   "cell_type": "markdown",
   "id": "e804526d",
   "metadata": {},
   "source": [
    "### Item-Item Similarity - Adjusted Cosine"
   ]
  },
  {
   "cell_type": "code",
   "execution_count": 17,
   "id": "30182676",
   "metadata": {},
   "outputs": [],
   "source": [
    "adjusted_item_distance_1, adjusted_item_indices_1 = calculate(\n",
    "    df_adjusted_item_1, num_neighbor\n",
    ")\n",
    "df_adjusted_item_distance_1 = pd.DataFrame(\n",
    "    adjusted_item_distance_1,\n",
    "    index=df_adjusted_item_1.index.tolist(),\n",
    "    columns=[str(i) for i in range(num_neighbor)],\n",
    ")\n",
    "df_adjusted_item_indices_1 = pd.DataFrame(\n",
    "    adjusted_item_indices_1,\n",
    "    index=df_adjusted_item_1.index.tolist(),\n",
    "    columns=[str(i) for i in range(num_neighbor)],\n",
    ")\n"
   ]
  },
  {
   "cell_type": "code",
   "execution_count": 18,
   "id": "1c602280",
   "metadata": {},
   "outputs": [],
   "source": [
    "adjusted_item_distance_2, adjusted_item_indices_2 = calculate(\n",
    "    df_adjusted_item_2, num_neighbor\n",
    ")\n",
    "df_adjusted_item_distance_2 = pd.DataFrame(\n",
    "    adjusted_item_distance_2,\n",
    "    index=df_adjusted_item_2.index.tolist(),\n",
    "    columns=[str(i) for i in range(num_neighbor)],\n",
    ")\n",
    "df_adjusted_item_indices_2 = pd.DataFrame(\n",
    "    adjusted_item_indices_1,\n",
    "    index=df_adjusted_item_2.index.tolist(),\n",
    "    columns=[str(i) for i in range(num_neighbor)],\n",
    ")\n"
   ]
  },
  {
   "cell_type": "code",
   "execution_count": 19,
   "id": "3fb84f0e",
   "metadata": {},
   "outputs": [],
   "source": [
    "adjusted_item_distance_3, adjusted_item_indices_3 = calculate(\n",
    "    df_adjusted_item_3, num_neighbor\n",
    ")\n",
    "df_adjusted_item_distance_3 = pd.DataFrame(\n",
    "    adjusted_item_distance_3,\n",
    "    index=df_adjusted_item_3.index.tolist(),\n",
    "    columns=[str(i) for i in range(num_neighbor)],\n",
    ")\n",
    "df_adjusted_item_indices_3 = pd.DataFrame(\n",
    "    adjusted_item_indices_3,\n",
    "    index=df_adjusted_item_3.index.tolist(),\n",
    "    columns=[str(i) for i in range(num_neighbor)],\n",
    ")\n"
   ]
  },
  {
   "cell_type": "markdown",
   "id": "c5cacf9a",
   "metadata": {},
   "source": [
    "### Item-Item Similarity - Normalized Cosine"
   ]
  },
  {
   "cell_type": "code",
   "execution_count": 38,
   "id": "c4466e14",
   "metadata": {},
   "outputs": [],
   "source": [
    "normalized_item_distance_1, normalized_item_indices_1 = calculate(\n",
    "    df_normalized_item_1, num_neighbor\n",
    ")\n",
    "df_normalized_item_distance_1 = pd.DataFrame(\n",
    "    normalized_item_distance_1,\n",
    "    index=df_normalized_item_1.index.tolist(),\n",
    "    columns=[str(i) for i in range(num_neighbor)],\n",
    ")\n",
    "df_normalized_item_indices_1 = pd.DataFrame(\n",
    "    normalized_item_indices_1,\n",
    "    index=df_normalized_item_1.index.tolist(),\n",
    "    columns=[str(i) for i in range(num_neighbor)],\n",
    ")\n"
   ]
  },
  {
   "cell_type": "code",
   "execution_count": 39,
   "id": "7ab087ad",
   "metadata": {},
   "outputs": [],
   "source": [
    "normalized_item_distance_2, normalized_item_indices_2 = calculate(\n",
    "    df_normalized_item_2, num_neighbor\n",
    ")\n",
    "df_normalized_item_distance_2 = pd.DataFrame(\n",
    "    normalized_item_distance_2,\n",
    "    index=df_normalized_item_2.index.tolist(),\n",
    "    columns=[str(i) for i in range(num_neighbor)],\n",
    ")\n",
    "df_normalized_item_indices_2 = pd.DataFrame(\n",
    "    normalized_item_indices_2,\n",
    "    index=df_normalized_item_2.index.tolist(),\n",
    "    columns=[str(i) for i in range(num_neighbor)],\n",
    ")\n"
   ]
  },
  {
   "cell_type": "code",
   "execution_count": 40,
   "id": "10f7d73b",
   "metadata": {},
   "outputs": [],
   "source": [
    "normalized_item_distance_3, normalized_item_indices_3 = calculate(\n",
    "    df_normalized_item_3, num_neighbor\n",
    ")\n",
    "df_normalized_item_distance_3 = pd.DataFrame(\n",
    "    normalized_item_distance_3,\n",
    "    index=df_normalized_item_3.index.tolist(),\n",
    "    columns=[str(i) for i in range(num_neighbor)],\n",
    ")\n",
    "df_normalized_item_indices_3 = pd.DataFrame(\n",
    "    normalized_item_indices_3,\n",
    "    index=df_normalized_item_3.index.tolist(),\n",
    "    columns=[str(i) for i in range(num_neighbor)],\n",
    ")\n"
   ]
  },
  {
   "cell_type": "markdown",
   "id": "4230b0b8",
   "metadata": {},
   "source": [
    "### User-User Similarity"
   ]
  },
  {
   "cell_type": "code",
   "execution_count": null,
   "id": "e1863ec2",
   "metadata": {},
   "outputs": [],
   "source": [
    "user_distance_1, user_indices_1 = calculate(df_user_1, num_neighbor)\n",
    "df_user_distance_1 = pd.DataFrame(\n",
    "    user_distance_1,\n",
    "    index=df_user_1.index.tolist(),\n",
    "    columns=[str(i) for i in range(num_neighbor)],\n",
    ")\n",
    "df_user_indices_1 = pd.DataFrame(\n",
    "    user_indices_1,\n",
    "    index=df_user_1.index.tolist(),\n",
    "    columns=[str(i) for i in range(num_neighbor)],\n",
    ")"
   ]
  },
  {
   "cell_type": "code",
   "execution_count": null,
   "id": "ab1b8a76",
   "metadata": {},
   "outputs": [],
   "source": [
    "user_distance_2, user_indices_2 = calculate(df_user_2, num_neighbor)\n",
    "df_user_distance_2 = pd.DataFrame(\n",
    "    user_distance_2,\n",
    "    index=df_user_2.index.tolist(),\n",
    "    columns=[str(i) for i in range(num_neighbor)],\n",
    ")\n",
    "df_user_indices_2 = pd.DataFrame(\n",
    "    user_indices_2,\n",
    "    index=df_user_2.index.tolist(),\n",
    "    columns=[str(i) for i in range(num_neighbor)],\n",
    ")"
   ]
  },
  {
   "cell_type": "code",
   "execution_count": null,
   "id": "3d10ee87",
   "metadata": {},
   "outputs": [],
   "source": [
    "user_distance_3, user_indices_3 = calculate(df_user_3, num_neighbor)\n",
    "df_user_distance_3 = pd.DataFrame(\n",
    "    user_distance_3,\n",
    "    index=df_user_3.index.tolist(),\n",
    "    columns=[str(i) for i in range(num_neighbor)],\n",
    ")\n",
    "df_user_indices_3 = pd.DataFrame(\n",
    "    user_indices_3,\n",
    "    index=df_user_3.index.tolist(),\n",
    "    columns=[str(i) for i in range(num_neighbor)],\n",
    ")"
   ]
  },
  {
   "cell_type": "markdown",
   "id": "115ad6a8",
   "metadata": {},
   "source": [
    "## Cache the Matrices!"
   ]
  },
  {
   "cell_type": "markdown",
   "id": "af746b26",
   "metadata": {},
   "source": [
    "### Item-Item - Unadjusted Cosine"
   ]
  },
  {
   "cell_type": "code",
   "execution_count": null,
   "id": "13835287",
   "metadata": {},
   "outputs": [],
   "source": [
    "df_item_distance_1.to_parquet(\n",
    "    f\"{SIMILARITY_TABLE_DATA_DIR}/item_distances_layer_1.parquet\"\n",
    ")\n",
    "df_item_indices_1.to_parquet(\n",
    "    f\"{SIMILARITY_TABLE_DATA_DIR}/item_indices_layer_1.parquet\"\n",
    ")"
   ]
  },
  {
   "cell_type": "code",
   "execution_count": null,
   "id": "445e338e",
   "metadata": {},
   "outputs": [],
   "source": [
    "df_item_distance_2.to_parquet(\n",
    "    f\"{SIMILARITY_TABLE_DATA_DIR}/item_distances_layer_2.parquet\"\n",
    ")\n",
    "df_item_indices_2.to_parquet(\n",
    "    f\"{SIMILARITY_TABLE_DATA_DIR}/item_indices_layer_2.parquet\"\n",
    ")"
   ]
  },
  {
   "cell_type": "code",
   "execution_count": null,
   "id": "f7e5ad40",
   "metadata": {},
   "outputs": [],
   "source": [
    "df_item_distance_3.to_parquet(\n",
    "    f\"{SIMILARITY_TABLE_DATA_DIR}/item_distances_layer_3.parquet\"\n",
    ")\n",
    "df_item_indices_3.to_parquet(\n",
    "    f\"{SIMILARITY_TABLE_DATA_DIR}/item_indices_layer_3.parquet\"\n",
    ")"
   ]
  },
  {
   "cell_type": "markdown",
   "id": "03f382db",
   "metadata": {},
   "source": [
    "### Item-Item - Adjusted Cosine"
   ]
  },
  {
   "cell_type": "code",
   "execution_count": 20,
   "id": "b9de3600",
   "metadata": {},
   "outputs": [],
   "source": [
    "df_adjusted_item_distance_1.to_parquet(\n",
    "    f\"{SIMILARITY_TABLE_DATA_DIR}/adjusted_item_distances_layer_1.parquet\"\n",
    ")\n",
    "df_adjusted_item_indices_1.to_parquet(\n",
    "    f\"{SIMILARITY_TABLE_DATA_DIR}/adjusted_item_indices_layer_1.parquet\"\n",
    ")"
   ]
  },
  {
   "cell_type": "code",
   "execution_count": 21,
   "id": "3266db11",
   "metadata": {},
   "outputs": [],
   "source": [
    "df_adjusted_item_distance_2.to_parquet(\n",
    "    f\"{SIMILARITY_TABLE_DATA_DIR}/adjusted_item_distances_layer_2.parquet\"\n",
    ")\n",
    "df_adjusted_item_indices_2.to_parquet(\n",
    "    f\"{SIMILARITY_TABLE_DATA_DIR}/adjusted_item_indices_layer_2.parquet\"\n",
    ")"
   ]
  },
  {
   "cell_type": "code",
   "execution_count": 22,
   "id": "0ac1581d",
   "metadata": {},
   "outputs": [],
   "source": [
    "df_adjusted_item_distance_3.to_parquet(\n",
    "    f\"{SIMILARITY_TABLE_DATA_DIR}/adjusted_item_distances_layer_3.parquet\"\n",
    ")\n",
    "df_adjusted_item_indices_3.to_parquet(\n",
    "    f\"{SIMILARITY_TABLE_DATA_DIR}/adjusted_item_indices_layer_3.parquet\"\n",
    ")"
   ]
  },
  {
   "cell_type": "markdown",
   "id": "659bf6d0",
   "metadata": {},
   "source": [
    "### Item-Item - Normalized Cosine"
   ]
  },
  {
   "cell_type": "code",
   "execution_count": 41,
   "id": "220ee6bb",
   "metadata": {},
   "outputs": [],
   "source": [
    "df_normalized_item_distance_1.to_parquet(\n",
    "    f\"{SIMILARITY_TABLE_DATA_DIR}/normalized_item_distances_layer_1.parquet\"\n",
    ")\n",
    "df_normalized_item_indices_1.to_parquet(\n",
    "    f\"{SIMILARITY_TABLE_DATA_DIR}/normalized_item_indices_layer_1.parquet\"\n",
    ")"
   ]
  },
  {
   "cell_type": "code",
   "execution_count": 42,
   "id": "0a11ca4b",
   "metadata": {},
   "outputs": [],
   "source": [
    "df_normalized_item_distance_2.to_parquet(\n",
    "    f\"{SIMILARITY_TABLE_DATA_DIR}/normalized_item_distances_layer_2.parquet\"\n",
    ")\n",
    "df_normalized_item_indices_2.to_parquet(\n",
    "    f\"{SIMILARITY_TABLE_DATA_DIR}/normalized_item_indices_layer_2.parquet\"\n",
    ")"
   ]
  },
  {
   "cell_type": "code",
   "execution_count": 43,
   "id": "2edaef42",
   "metadata": {},
   "outputs": [],
   "source": [
    "df_normalized_item_distance_3.to_parquet(\n",
    "    f\"{SIMILARITY_TABLE_DATA_DIR}/normalized_item_distances_layer_3.parquet\"\n",
    ")\n",
    "df_normalized_item_indices_3.to_parquet(\n",
    "    f\"{SIMILARITY_TABLE_DATA_DIR}/normalized_item_indices_layer_3.parquet\"\n",
    ")"
   ]
  },
  {
   "cell_type": "markdown",
   "id": "cba0b9f1",
   "metadata": {},
   "source": [
    "### User-User Similarity"
   ]
  },
  {
   "cell_type": "code",
   "execution_count": null,
   "id": "5902a09a",
   "metadata": {},
   "outputs": [],
   "source": [
    "df_user_distance_1.to_parquet(\n",
    "    f\"{SIMILARITY_TABLE_DATA_DIR}/user_distances_layer_1.parquet\"\n",
    ")\n",
    "df_user_indices_1.to_parquet(\n",
    "    f\"{SIMILARITY_TABLE_DATA_DIR}/user_indices_layer_1.parquet\"\n",
    ")"
   ]
  },
  {
   "cell_type": "code",
   "execution_count": null,
   "id": "5876576d",
   "metadata": {},
   "outputs": [],
   "source": [
    "df_user_distance_2.to_parquet(\n",
    "    f\"{SIMILARITY_TABLE_DATA_DIR}/user_distances_layer_2.parquet\"\n",
    ")\n",
    "df_user_indices_2.to_parquet(\n",
    "    f\"{SIMILARITY_TABLE_DATA_DIR}/user_indices_layer_2.parquet\"\n",
    ")"
   ]
  },
  {
   "cell_type": "code",
   "execution_count": null,
   "id": "5d9fd8a9",
   "metadata": {},
   "outputs": [],
   "source": [
    "df_user_distance_3.to_parquet(\n",
    "    f\"{SIMILARITY_TABLE_DATA_DIR}/user_distances_layer_3.parquet\"\n",
    ")\n",
    "df_user_indices_3.to_parquet(\n",
    "    f\"{SIMILARITY_TABLE_DATA_DIR}/user_indices_layer_3.parquet\"\n",
    ")"
   ]
  }
 ],
 "metadata": {
  "kernelspec": {
   "display_name": "Python 3 (ipykernel)",
   "language": "python",
   "name": "python3"
  },
  "language_info": {
   "codemirror_mode": {
    "name": "ipython",
    "version": 3
   },
   "file_extension": ".py",
   "mimetype": "text/x-python",
   "name": "python",
   "nbconvert_exporter": "python",
   "pygments_lexer": "ipython3",
   "version": "3.10.6"
  },
  "vscode": {
   "interpreter": {
    "hash": "de494753b2d6f2d1647c1e9897e8f951009e7a9fd72c91ae5307ac43c004664e"
   }
  }
 },
 "nbformat": 4,
 "nbformat_minor": 5
}
