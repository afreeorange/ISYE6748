{
 "cells": [
  {
   "cell_type": "code",
   "execution_count": 41,
   "id": "cdac9501",
   "metadata": {},
   "outputs": [],
   "source": [
    "import numpy as np\n",
    "import pandas as pd\n",
    "from sklearn.metrics import mean_absolute_error, mean_squared_error\n"
   ]
  },
  {
   "cell_type": "markdown",
   "id": "71b14417",
   "metadata": {},
   "source": [
    "# Model Evaluation with Three Cosine Similarity Metrics"
   ]
  },
  {
   "cell_type": "markdown",
   "id": "ba3f50a6",
   "metadata": {},
   "source": [
    "We are going to use Unadjusted, Centered, and Normalized Cosine Similarity to evaluate our model's performance with and without the Global Baseline Estimate (GBE). Please see our Report for more information."
   ]
  },
  {
   "cell_type": "markdown",
   "id": "43223458",
   "metadata": {},
   "source": [
    "## Load the Utility and Similarity Matrices"
   ]
  },
  {
   "cell_type": "code",
   "execution_count": 42,
   "id": "7020d97c",
   "metadata": {},
   "outputs": [],
   "source": [
    "df_layer_1 = pd.read_parquet(\n",
    "    \"../data/processed/100-layer-frequencies_layer_1.parquet\",\n",
    "    engine=\"pyarrow\",\n",
    ").drop(\"Gender_Code\", axis=1)\n",
    "\n",
    "df_layer_2 = pd.read_parquet(\n",
    "    \"../data/processed/100-layer-frequencies_layer_2.parquet\",\n",
    "    engine=\"pyarrow\",\n",
    ").drop(\"Gender_Code\", axis=1)\n",
    "\n",
    "df_layer_3 = pd.read_parquet(\n",
    "    \"../data/processed/100-layer-frequencies_layer_3.parquet\",\n",
    "    engine=\"pyarrow\",\n",
    ").drop(\"Gender_Code\", axis=1)\n"
   ]
  },
  {
   "cell_type": "code",
   "execution_count": 43,
   "id": "8648b905",
   "metadata": {},
   "outputs": [],
   "source": [
    "df_item_distances_1 = pd.read_parquet(\n",
    "    \"../data/similarity_matrices/item_distances_layer_1.parquet\",\n",
    "    engine=\"pyarrow\",\n",
    ")\n",
    "df_item_indices_1 = pd.read_parquet(\n",
    "    \"../data/similarity_matrices/item_indices_layer_1.parquet\",\n",
    "    engine=\"pyarrow\",\n",
    ")\n",
    "\n",
    "df_item_distances_2 = pd.read_parquet(\n",
    "    \"../data/similarity_matrices/item_distances_layer_2.parquet\",\n",
    "    engine=\"pyarrow\",\n",
    ")\n",
    "df_item_indices_2 = pd.read_parquet(\n",
    "    \"../data/similarity_matrices/item_indices_layer_2.parquet\",\n",
    "    engine=\"pyarrow\",\n",
    ")\n",
    "\n",
    "df_item_distances_3 = pd.read_parquet(\n",
    "    \"../data/similarity_matrices/item_distances_layer_3.parquet\",\n",
    "    engine=\"pyarrow\",\n",
    ")\n",
    "df_item_indices_3 = pd.read_parquet(\n",
    "    \"../data/similarity_matrices/item_indices_layer_3.parquet\",\n",
    "    engine=\"pyarrow\",\n",
    ")\n"
   ]
  },
  {
   "cell_type": "code",
   "execution_count": 37,
   "id": "6a5b5644",
   "metadata": {},
   "outputs": [],
   "source": [
    "df_adjusted_item_distances_1 = pd.read_parquet(\n",
    "    \"../data/similarity_matrices/adjusted_item_distances_layer_1.parquet\",\n",
    "    engine=\"pyarrow\",\n",
    ")\n",
    "df_adjusted_item_indices_1 = pd.read_parquet(\n",
    "    \"../data/similarity_matrices/adjusted_item_indices_layer_1.parquet\",\n",
    "    engine=\"pyarrow\",\n",
    ")\n",
    "df_adjusted_item_distances_2 = pd.read_parquet(\n",
    "    \"../data/similarity_matrices/adjusted_item_distances_layer_2.parquet\",\n",
    "    engine=\"pyarrow\",\n",
    ")\n",
    "df_adjusted_item_indices_2 = pd.read_parquet(\n",
    "    \"../data/similarity_matrices/adjusted_item_indices_layer_2.parquet\",\n",
    "    engine=\"pyarrow\",\n",
    ")\n",
    "df_adjusted_item_distances_3 = pd.read_parquet(\n",
    "    \"../data/similarity_matrices/adjusted_item_distances_layer_3.parquet\",\n",
    "    engine=\"pyarrow\",\n",
    ")\n",
    "df_adjusted_item_indices_3 = pd.read_parquet(\n",
    "    \"../data/similarity_matrices/adjusted_item_indices_layer_3.parquet\",\n",
    "    engine=\"pyarrow\",\n",
    ")\n"
   ]
  },
  {
   "cell_type": "code",
   "execution_count": 44,
   "id": "73f76c1f",
   "metadata": {},
   "outputs": [],
   "source": [
    "df_normalized_item_distances_1 = pd.read_parquet(\n",
    "    \"../data/similarity_matrices/normalized_item_distances_layer_1.parquet\",\n",
    "    engine=\"pyarrow\",\n",
    ")\n",
    "df_normalized_item_indices_1 = pd.read_parquet(\n",
    "    \"../data/similarity_matrices/normalized_item_indices_layer_1.parquet\",\n",
    "    engine=\"pyarrow\",\n",
    ")\n",
    "df_normalized_item_distances_2 = pd.read_parquet(\n",
    "    \"../data/similarity_matrices/normalized_item_distances_layer_2.parquet\",\n",
    "    engine=\"pyarrow\",\n",
    ")\n",
    "df_normalized_item_indices_2 = pd.read_parquet(\n",
    "    \"../data/similarity_matrices/normalized_item_indices_layer_2.parquet\",\n",
    "    engine=\"pyarrow\",\n",
    ")\n",
    "df_normalized_item_distances_3 = pd.read_parquet(\n",
    "    \"../data/similarity_matrices/normalized_item_distances_layer_3.parquet\",\n",
    "    engine=\"pyarrow\",\n",
    ")\n",
    "df_normalized_item_indices_3 = pd.read_parquet(\n",
    "    \"../data/similarity_matrices/normalized_item_indices_layer_3.parquet\",\n",
    "    engine=\"pyarrow\",\n",
    ")\n"
   ]
  },
  {
   "cell_type": "markdown",
   "id": "2859ad1d",
   "metadata": {},
   "source": [
    "## Set up the Evaluator"
   ]
  },
  {
   "cell_type": "code",
   "execution_count": 46,
   "id": "fc20f5ff",
   "metadata": {},
   "outputs": [],
   "source": [
    "def evaluate(\n",
    "    df,\n",
    "    Cosine=\"Normal\",\n",
    "    indices=df_item_indices_1,\n",
    "    distances=df_item_distances_1,\n",
    "):\n",
    "\n",
    "    df_flip = df.set_index(\"Member_Life_ID\").transpose()\n",
    "    df_flip.columns.name = \"\"\n",
    "    orig_df = df_flip\n",
    "\n",
    "    # We are using a 70/30 Train/Test split. Pick 30% of patients randomly.\n",
    "    true_df = orig_df.sample(n=30_000, axis=\"columns\", random_state=404)\n",
    "    test_df = true_df.copy()\n",
    "\n",
    "    # Baseline estimate calculation\n",
    "    global_mean = np.nanmean(test_df)\n",
    "    icd_mean = test_df.mean(axis=1)\n",
    "    patient_mean = test_df.mean(axis=0)\n",
    "\n",
    "    deviation_of_patient = patient_mean - global_mean\n",
    "    deviation_of_icd = icd_mean - global_mean\n",
    "\n",
    "    # We are evaluating three variants of the Cosine Similarity function in\n",
    "    # this project.\n",
    "    if Cosine == \"Adjusted\":\n",
    "        test_df = test_df - patient_mean\n",
    "    if Cosine == \"Normalized\":\n",
    "        test_df = (test_df - test_df.min()) / (test_df.max() - test_df.min())\n",
    "\n",
    "    y_true = []\n",
    "    y_pred = []\n",
    "    y_pred_raw = []\n",
    "    for target_ID in test_df:\n",
    "\n",
    "        # Look at all ICD classes of that patient\n",
    "        test_vector = test_df[target_ID]\n",
    "\n",
    "        # Show ICD classes with positive frequencies\n",
    "        test_vector = test_vector[test_vector > 0]\n",
    "\n",
    "        # Nothing to test if the patient has not been diagnosed for anything\n",
    "        # No need to trim df if there's only one diagnose\n",
    "        if len(test_vector) > 1:\n",
    "\n",
    "            # Filter length of ICD class to 30%\n",
    "            test_vector = test_vector[0 : round(len(test_vector) * 0.3)]\n",
    "\n",
    "        # Loop over each diagnosed ICD class for that patient\n",
    "        for ICD_Class, real_freq in test_vector.iteritems():\n",
    "            similar_ICD_indices = indices.loc[ICD_Class].tolist()\n",
    "            similar_ICD_distances = distances.loc[ICD_Class].tolist()\n",
    "\n",
    "            # Replace indices with ICD classes\n",
    "            for i in range(len(similar_ICD_indices)):\n",
    "                value = similar_ICD_indices[i]\n",
    "                similar_ICD_indices[i] = orig_df.index[value]\n",
    "\n",
    "            # Remove ICD class from its own similarity list\n",
    "            if ICD_Class in similar_ICD_indices:\n",
    "                ICD_id = similar_ICD_indices.index(ICD_Class)\n",
    "                similar_ICD_indices.remove(ICD_Class)\n",
    "                similar_ICD_distances.pop(ICD_id)\n",
    "\n",
    "            similar_ICD_similarity = [1 - x for x in similar_ICD_distances]\n",
    "            numerator = 0\n",
    "            numerator_raw = 0\n",
    "            denominator = 0\n",
    "\n",
    "            # The global_estimate of each class for one user\n",
    "            baseline_estimate = (\n",
    "                global_mean + deviation_of_patient[target_ID] + deviation_of_icd\n",
    "            )\n",
    "\n",
    "            # looping over each similar ICD class in that similarity list\n",
    "            for s in range(0, len(similar_ICD_similarity)):\n",
    "\n",
    "                # rating - global estimate, right side of equation\n",
    "                adjusted_r = (\n",
    "                    test_df.loc[similar_ICD_indices[s], target_ID]\n",
    "                    - baseline_estimate[similar_ICD_indices[s]]\n",
    "                )\n",
    "                numerator = numerator + similar_ICD_similarity[s] * adjusted_r\n",
    "                numerator_raw = (\n",
    "                    numerator_raw\n",
    "                    + similar_ICD_similarity[s]\n",
    "                    * test_df.loc[similar_ICD_indices[s], target_ID]\n",
    "                )\n",
    "                denominator = denominator + similar_ICD_similarity[s]\n",
    "\n",
    "            if denominator > 0:\n",
    "                predicted_freq = numerator / denominator + baseline_estimate[ICD_Class]\n",
    "                predicted_freq_raw = numerator_raw / denominator\n",
    "\n",
    "            else:\n",
    "                # If similarity matrix is 0, set freq as 0 to avoid NaN\n",
    "                predicted_freq = baseline_estimate[ICD_Class]\n",
    "                predicted_freq_raw = 0\n",
    "\n",
    "            if predicted_freq < 0:\n",
    "                predicted_freq = 0\n",
    "\n",
    "            if predicted_freq_raw < 0:\n",
    "                predicted_freq_raw = 0\n",
    "\n",
    "            y_true.append(real_freq)\n",
    "            y_pred.append(predicted_freq)\n",
    "            y_pred_raw.append(predicted_freq_raw)\n",
    "\n",
    "    return (y_true, y_pred, y_pred_raw)\n"
   ]
  },
  {
   "cell_type": "markdown",
   "id": "08e266cf",
   "metadata": {},
   "source": [
    "## Evaluation"
   ]
  },
  {
   "cell_type": "markdown",
   "id": "20bc4e27",
   "metadata": {},
   "source": [
    "### Layer 1"
   ]
  },
  {
   "cell_type": "code",
   "execution_count": 47,
   "id": "73af5432",
   "metadata": {},
   "outputs": [],
   "source": [
    "y_true, y_pred, y_pred_raw = evaluate(df_layer_1)"
   ]
  },
  {
   "cell_type": "code",
   "execution_count": 49,
   "id": "18d8d8e0",
   "metadata": {},
   "outputs": [
    {
     "name": "stdout",
     "output_type": "stream",
     "text": [
      "------------------ Unadjusted Cosine ------------------\n",
      "RMSE: 1.5989534623430735 (GBE)\n",
      "RMSE: 1.6054705363037605\n",
      "MAE: 1.2065819980562873 (GBE)\n",
      "MAE: 1.1553044186300971\n"
     ]
    }
   ],
   "source": [
    "print(\"------------------ Unadjusted Cosine ------------------\")\n",
    "\n",
    "# Nothing\n",
    "print(\"RMSE:\", mean_squared_error(y_true, y_pred, squared=False), \"(GBE)\")\n",
    "print(\"RMSE:\", mean_squared_error(y_true, y_pred_raw, squared=False))\n",
    "print(\"MAE:\", mean_absolute_error(y_true, y_pred), \"(GBE)\")\n",
    "print(\"MAE:\", mean_absolute_error(y_true, y_pred_raw))\n"
   ]
  },
  {
   "cell_type": "code",
   "execution_count": null,
   "id": "afbb7e5a",
   "metadata": {},
   "outputs": [],
   "source": [
    "y_true, y_pred_adjusted, y_pred_raw_adjusted = evaluate(\n",
    "    df_layer_1,\n",
    "    Cosine=\"Adjusted\",\n",
    "    indices=df_adjusted_item_indices_1,\n",
    "    distances=df_adjusted_item_distances_1,\n",
    ")\n"
   ]
  },
  {
   "cell_type": "code",
   "execution_count": null,
   "id": "d3ff7de5",
   "metadata": {},
   "outputs": [],
   "source": [
    "print(\"------------------ Centered Cosine ------------------\")\n",
    "\n",
    "print(\"RMSE:\", mean_squared_error(y_true, y_pred_adjusted, squared=False), \"(GBE)\")\n",
    "print(\"RMSE:\", mean_squared_error(y_true, y_pred_raw_adjusted, squared=False))\n",
    "print(\"MAE:\", mean_absolute_error(y_true, y_pred_adjusted), \"(GBE)\")\n",
    "print(\"MAE:\", mean_absolute_error(y_true, y_pred_raw_adjusted))\n"
   ]
  },
  {
   "cell_type": "code",
   "execution_count": null,
   "id": "a9248d42",
   "metadata": {},
   "outputs": [],
   "source": [
    "y_true, y_pred_normalized, y_pred_raw_normalized = evaluate(\n",
    "    df_layer_1,\n",
    "    Cosine=\"Normalized\",\n",
    "    indices=df_normalized_item_indices_1,\n",
    "    distances=df_normalized_item_distances_1,\n",
    ")\n"
   ]
  },
  {
   "cell_type": "code",
   "execution_count": null,
   "id": "d5362c13",
   "metadata": {},
   "outputs": [],
   "source": [
    "print(\"------------------ Normalized Cosine ------------------\")\n",
    "\n",
    "print(\"RMSE:\", mean_squared_error(y_true, y_pred_normalized, squared=False), \"(GBE)\")\n",
    "print(\"RMSE:\", mean_squared_error(y_true, y_pred_raw_normalized, squared=False))\n",
    "print(\"MAE:\", mean_absolute_error(y_true, y_pred_normalized), \"(GBE)\")\n",
    "print(\"MAE:\", mean_absolute_error(y_true, y_pred_raw_normalized))\n"
   ]
  },
  {
   "cell_type": "markdown",
   "id": "d27aef1e",
   "metadata": {},
   "source": [
    "### Layer 2"
   ]
  },
  {
   "cell_type": "code",
   "execution_count": null,
   "id": "f6c1a19f",
   "metadata": {},
   "outputs": [],
   "source": [
    "y_true, y_pred, y_pred_raw = evaluate(\n",
    "    df_layer_2,\n",
    "    indices=df_item_indices_2,\n",
    "    distances=df_item_distances_2,\n",
    ")\n"
   ]
  },
  {
   "cell_type": "code",
   "execution_count": null,
   "id": "9100bc5e",
   "metadata": {},
   "outputs": [],
   "source": [
    "print(\"------------------ Unadjusted Cosine ------------------\")\n",
    "\n",
    "print(\"RMSE:\",mean_squared_error(y_true, y_pred,squared=False), \"(GBE)\")\n",
    "print(\"RMSE:\",mean_squared_error(y_true, y_pred_raw,squared=False))\n",
    "print(\"MAE:\",mean_absolute_error(y_true, y_pred), \"(GBE)\")\n",
    "print(\"MAE:\",mean_absolute_error(y_true, y_pred_raw))"
   ]
  },
  {
   "cell_type": "code",
   "execution_count": null,
   "id": "777a05bb",
   "metadata": {},
   "outputs": [],
   "source": [
    "y_true, y_pred_adjusted, y_pred_raw_adjusted = evaluate(\n",
    "    df_layer_2,\n",
    "    Cosine=\"Adjusted\",\n",
    "    indices=df_adjusted_item_indices_2,\n",
    "    distances=df_adjusted_item_distances_2,\n",
    ")\n"
   ]
  },
  {
   "cell_type": "code",
   "execution_count": null,
   "id": "9a5e2574",
   "metadata": {},
   "outputs": [],
   "source": [
    "print(\"------------------ Centered Cosine ------------------\")\n",
    "\n",
    "print(\"RMSE:\",mean_squared_error(y_true, y_pred_adjusted,squared=False), \"(GBE)\")\n",
    "print(\"RMSE:\",mean_squared_error(y_true, y_pred_raw_adjusted,squared=False))\n",
    "print(\"MAE:\",mean_absolute_error(y_true, y_pred_adjusted), \"(GBE)\")\n",
    "print(\"MAE:\",mean_absolute_error(y_true, y_pred_raw_adjusted))"
   ]
  },
  {
   "cell_type": "code",
   "execution_count": null,
   "id": "3bb7dff6",
   "metadata": {},
   "outputs": [],
   "source": [
    "y_true, y_pred_normalized, y_pred_raw_normalized = evaluate(\n",
    "    df_layer_2,\n",
    "    Cosine=\"Normalized\",\n",
    "    indices=df_normalized_item_indices_2,\n",
    "    distances=df_normalized_item_distances_2,\n",
    ")\n"
   ]
  },
  {
   "cell_type": "code",
   "execution_count": null,
   "id": "32b63b93",
   "metadata": {},
   "outputs": [],
   "source": [
    "print(\"------------------ Normalized Cosine ------------------\")\n",
    "\n",
    "print(\"RMSE:\",mean_squared_error(y_true, y_pred_normalized,squared=False), \"(GBE)\")\n",
    "print(\"RMSE:\",mean_squared_error(y_true, y_pred_raw_normalized,squared=False))\n",
    "print(\"MAE:\",mean_absolute_error(y_true, y_pred_normalized), \"(GBE)\")\n",
    "print(\"MAE:\",mean_absolute_error(y_true, y_pred_raw_normalized))"
   ]
  },
  {
   "cell_type": "markdown",
   "id": "a8ca579f",
   "metadata": {},
   "source": [
    "### Layer 3"
   ]
  },
  {
   "cell_type": "code",
   "execution_count": null,
   "id": "bd43c7a8",
   "metadata": {},
   "outputs": [],
   "source": [
    "y_true, y_pred, y_pred_raw = evaluate(\n",
    "    df_layer_3,\n",
    "    indices=df_item_indices_3,\n",
    "    distances=df_item_distances_3,\n",
    ")\n"
   ]
  },
  {
   "cell_type": "code",
   "execution_count": null,
   "id": "38b35570",
   "metadata": {},
   "outputs": [],
   "source": [
    "print(\"------------------ Unadjusted Cosine ------------------\")\n",
    "\n",
    "print(\"RMSE:\",mean_squared_error(y_true, y_pred,squared=False), \"(GBE)\")\n",
    "print(\"RMSE:\",mean_squared_error(y_true, y_pred_raw,squared=False))\n",
    "print(\"MAE:\",mean_absolute_error(y_true, y_pred), \"(GBE)\")\n",
    "print(\"MAE:\",mean_absolute_error(y_true, y_pred_raw))"
   ]
  },
  {
   "cell_type": "code",
   "execution_count": null,
   "id": "fe9e7862",
   "metadata": {},
   "outputs": [],
   "source": [
    "y_true, y_pred_adjusted, y_pred_raw_adjusted = evaluate(\n",
    "    df_layer_3,\n",
    "    Cosine=\"Adjusted\",\n",
    "    indices=df_adjusted_item_indices_3,\n",
    "    distances=df_adjusted_item_distances_3,\n",
    ")\n"
   ]
  },
  {
   "cell_type": "code",
   "execution_count": null,
   "id": "835443fd",
   "metadata": {},
   "outputs": [],
   "source": [
    "print(\"------------------ Centered Cosine ------------------\")\n",
    "\n",
    "print(\"RMSE:\",mean_squared_error(y_true, y_pred_adjusted,squared=False), \"(GBE)\")\n",
    "print(\"RMSE:\",mean_squared_error(y_true, y_pred_raw_adjusted,squared=False))\n",
    "print(\"MAE:\",mean_absolute_error(y_true, y_pred_adjusted), \"(GBE)\")\n",
    "print(\"MAE:\",mean_absolute_error(y_true, y_pred_raw_adjusted))"
   ]
  },
  {
   "cell_type": "code",
   "execution_count": null,
   "id": "071931e2",
   "metadata": {},
   "outputs": [],
   "source": [
    "y_true, y_pred_normalized, y_pred_raw_normalized = evaluate(\n",
    "    df_layer_3,\n",
    "    Cosine=\"Normalized\",\n",
    "    indices=df_normalized_item_indices_3,\n",
    "    distances=df_normalized_item_distances_3,\n",
    ")\n"
   ]
  },
  {
   "cell_type": "code",
   "execution_count": null,
   "id": "d1799b8b",
   "metadata": {},
   "outputs": [],
   "source": [
    "print(\"------------------ Normalized Cosine ------------------\")\n",
    "\n",
    "print(\"RMSE:\",mean_squared_error(y_true, y_pred_normalized,squared=False), \"(GBE)\")\n",
    "print(\"RMSE:\",mean_squared_error(y_true, y_pred_raw_normalized,squared=False))\n",
    "print(\"MAE:\",mean_absolute_error(y_true, y_pred_normalized), \"(GBE)\")\n",
    "print(\"MAE:\",mean_absolute_error(y_true, y_pred_raw_normalized))"
   ]
  },
  {
   "cell_type": "code",
   "execution_count": null,
   "id": "4fb118aa",
   "metadata": {},
   "outputs": [],
   "source": []
  }
 ],
 "metadata": {
  "kernelspec": {
   "display_name": "Python 3 (ipykernel)",
   "language": "python",
   "name": "python3"
  },
  "language_info": {
   "codemirror_mode": {
    "name": "ipython",
    "version": 3
   },
   "file_extension": ".py",
   "mimetype": "text/x-python",
   "name": "python",
   "nbconvert_exporter": "python",
   "pygments_lexer": "ipython3",
   "version": "3.10.6"
  },
  "vscode": {
   "interpreter": {
    "hash": "de494753b2d6f2d1647c1e9897e8f951009e7a9fd72c91ae5307ac43c004664e"
   }
  }
 },
 "nbformat": 4,
 "nbformat_minor": 5
}
